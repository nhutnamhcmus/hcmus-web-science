{
 "cells": [
  {
   "cell_type": "markdown",
   "metadata": {
    "colab_type": "text",
    "id": "2pCaNEE5V4Kd"
   },
   "source": [
    "# Lab01: Web Crawler.\n",
    "\n",
    "- MSSV: 18120061\n",
    "- Họ và tên: Lê Nhựt Nam"
   ]
  },
  {
   "cell_type": "markdown",
   "metadata": {
    "colab_type": "text",
    "id": "RW12ABtEV4Kf"
   },
   "source": [
    "## Yêu cầu bài tập\n",
    "\n",
    "**Cách làm bài**\n",
    "\n",
    "\n",
    "Bạn sẽ làm trực tiếp trên file notebook này; trong file, từ `TODO` để cho biết những phần mà bạn cần phải làm.\n",
    "\n",
    "Bạn có thể thảo luận ý tưởng cũng như tham khảo các tài liệu, nhưng *code và bài làm phải là của bạn*. \n",
    "\n",
    "Nếu vi phạm thì sẽ bị 0 điểm cho bài tập này.\n",
    "\n",
    "**Cách nộp bài**\n",
    "\n",
    "Trước khi nộp bài, rerun lại notebook (`Kernel` -> `Restart & Run All`).\n",
    "\n",
    "Sau đó, tạo thư mục có tên `MSSV` của bạn (vd, nếu bạn có MSSV là 1234567 thì bạn đặt tên thư mục là `1234567`) Chép file `Lab01-WebCrawler.ipynb`, `links.txt`, `images.txt` vào, rồi nén thư mục `MSSV` này lại và nộp ở link trên moodle.\n",
    "\n",
    "**Nội dung bài tập**\n",
    "\n",
    "Sử dụng module regex và request để thu thập đường dẫn và hình ảnh từ một trang web."
   ]
  },
  {
   "cell_type": "markdown",
   "metadata": {
    "colab_type": "text",
    "id": "7SXPfWz-V4Kg"
   },
   "source": [
    "#### 1. Import"
   ]
  },
  {
   "cell_type": "code",
   "execution_count": 1,
   "metadata": {
    "colab": {},
    "colab_type": "code",
    "id": "NZH1daHoV4Kg"
   },
   "outputs": [],
   "source": [
    "import requests\n",
    "import re"
   ]
  },
  {
   "cell_type": "markdown",
   "metadata": {
    "colab_type": "text",
    "id": "WzzuOjDGV4Kl"
   },
   "source": [
    "#### 2. Thu thập liên kết"
   ]
  },
  {
   "cell_type": "code",
   "execution_count": 2,
   "metadata": {
    "colab": {},
    "colab_type": "code",
    "id": "bKNjb0THV4Km",
    "outputId": "ef7e8623-d644-4001-ce5c-31b845a37035"
   },
   "outputs": [
    {
     "name": "stdout",
     "output_type": "stream",
     "text": [
      "http://www.w3.org/1999/xhtml\n",
      "https://www.hcmus.edu.vn/\n",
      "https://www.hcmus.edu.vn/component/search/?id=1&amp;Itemid=437&amp;format=opensearch\n",
      "https://www.hcmus.edu.vn/\n",
      "http://www.hcmus.edu.vn');\n",
      "http://portal.hcmus.edu.vn/\n",
      "http://mail.office365.com/\n",
      "https://www.google.com/a/hcmus.edu.vn/ServiceLogin?service=mail&amp;passive=true&amp;rm=false&amp;continue=http://mail.google.com/a/hcmus.edu.vn/&amp;ltmpl=default&amp;ltmplcache=2\n",
      "http://www.hcmus.edu.vn/lich-cong-tac\n",
      "http://en.hcmus.edu.vn/\n",
      "http://www.hcmus.edu.vn/\n",
      "http://congdoan.hcmus.edu.vn/\n",
      "http://doantn.hcmus.edu.vn/\n",
      "https://www.hcmus.edu.vn/phone\n",
      "https://jobs.hcmus.edu.vn\n",
      "http://tuyensinh.hcmus.edu.vn/\n",
      "https://sdh.hcmus.edu.vn/tuyen-sinh/\n",
      "https://sdh.hcmus.edu.vn/\n",
      "http://www.e-learning.vn\n",
      "https://pdt.hcmus.edu.vn/dstn\n",
      "https://hnkh.hcmus.edu.vn/\n",
      "http://stdjns.scienceandtechnology.com.vn/\n",
      "http://www.bmrat.org/\n",
      "http://cellstemcell.org/\n",
      "http://www.progressinbiology.org/index.php/ProBio\n",
      "http://ajhs.biomedpress.org/index.php/ajhs\n",
      "https://www.hcmus.edu.vn/ho-so-pgs-gs\n",
      "http://www.hcmus.edu.vn/cbvc\n",
      "http://www.hcmus.edu.vn/sinh-vien\n",
      "https://sdh.hcmus.edu.vn/thong-bao/\n",
      "http://www.hcmus.edu.vn/job\n",
      "https://kbytcq.khambenh.gov.vn/qr/501ec6eb-b534-4b8a-aeb4-5a84a1a8ffc0\n",
      "https://kbytcq.tphcm.gov.vn/qr/334c3e2b-a3b4-4db2-9b9d-908b61fbc9c1\n",
      "http://www.w3.org/2000/svg\n",
      "http://www.w3.org/2000/svg\n",
      "https://drive.google.com/file/d/11Y1NBW3bhZ-mfLBJK3348mBUlPiYZ_cE/view?usp=sharing\n",
      "https://drive.google.com/file/d/11cZAilHNW4AY4h5B2e5cfg6pHHqyoW0Q/view?usp=sharing\n",
      "http://stdjns.scienceandtechnology.com.vn/\n",
      "http://www.bmrat.org/\n",
      "http://cellstemcell.org/\n",
      "http://web.hcmus.edu.vn/index.php?option=com_content&amp;task=view&amp;id=10381&amp;Itemid=9\n",
      "https://www.facebook.com/us.vnuhcm/\n",
      "https://www.facebook.com/tvts.hcmus\n",
      "http://www.hcmus.edu.vn/\n",
      "http://congdoan.hcmus.edu.vn/\n",
      "http://doantn.hcmus.edu.vn/\n",
      "https://www.hcmus.edu.vn/phone\n",
      "https://jobs.hcmus.edu.vn\n",
      "http://tuyensinh.hcmus.edu.vn/\n",
      "https://sdh.hcmus.edu.vn/tuyen-sinh/\n",
      "https://sdh.hcmus.edu.vn/\n",
      "http://www.e-learning.vn\n",
      "https://pdt.hcmus.edu.vn/dstn\n",
      "https://hnkh.hcmus.edu.vn/\n",
      "http://stdjns.scienceandtechnology.com.vn/\n",
      "http://www.bmrat.org/\n",
      "http://cellstemcell.org/\n",
      "http://www.progressinbiology.org/index.php/ProBio\n",
      "http://ajhs.biomedpress.org/index.php/ajhs\n",
      "https://www.hcmus.edu.vn/ho-so-pgs-gs\n"
     ]
    },
    {
     "data": {
      "text/plain": [
       "'\\n[1] Regular expression to find URLs within a string, https://stackoverflow.com/questions/6038061/regular-expression-to-find-urls-within-a-string\\n[2] What is a good regular expression to match a URL?, https://stackoverflow.com/questions/3809401/what-is-a-good-regular-expression-to-match-a-url\\n[3] Perfect regex for extracting url with re.findall()? https://stackoverflow.com/questions/28840908/perfect-regex-for-extracting-url-with-re-findall\\n'"
      ]
     },
     "execution_count": 2,
     "metadata": {},
     "output_type": "execute_result"
    }
   ],
   "source": [
    "r = requests.get(\"http://www.hcmus.edu.vn\")\n",
    "\n",
    "# TODO:\n",
    "# Displays all the links present in the specified root URL - \"http://www.hcmus.edu.vn\"\n",
    "# use regex to find all urls from r.text (http[s]://...)\n",
    "# urls = ? \n",
    "\n",
    "findall_urls = lambda r : re.findall(r\"http[s]?://(?:[a-zA-Z]|[0-9]|[$-_@.&+]|[!*\\(\\),]|(?:%[0-9a-fA-F][0-9a-fA-F]))+\", r.text)\n",
    "\n",
    "urls = findall_urls(r)\n",
    "\n",
    "# Checking results?\n",
    "for i in urls:\n",
    "    print(i)\n",
    "\n",
    "#Save urls to links.txt\n",
    "fp = open('links.txt', 'w')\n",
    "for i in urls:\n",
    "    fp.write(i)\n",
    "    fp.write('\\n')\n",
    "fp.close()\n",
    "\n",
    "# References\n",
    "\"\"\"\n",
    "[1] Regular expression to find URLs within a string, https://stackoverflow.com/questions/6038061/regular-expression-to-find-urls-within-a-string\n",
    "[2] What is a good regular expression to match a URL?, https://stackoverflow.com/questions/3809401/what-is-a-good-regular-expression-to-match-a-url\n",
    "[3] Perfect regex for extracting url with re.findall()? https://stackoverflow.com/questions/28840908/perfect-regex-for-extracting-url-with-re-findall\n",
    "\"\"\""
   ]
  },
  {
   "cell_type": "markdown",
   "metadata": {
    "colab_type": "text",
    "id": "uZJne0sSV4Kq"
   },
   "source": [
    "#### 3. Thu thập hình ảnh"
   ]
  },
  {
   "cell_type": "code",
   "execution_count": 3,
   "metadata": {
    "colab": {},
    "colab_type": "code",
    "id": "IiYJxbp6V4Kq",
    "outputId": "2b6d5963-213f-4842-c61f-52d94c7b5b43"
   },
   "outputs": [
    {
     "name": "stdout",
     "output_type": "stream",
     "text": [
      "/images/logo_KHTN_WEB.png\n",
      "/images/logo_KHTN_WEB.png\n",
      "/images/logo_KHTN_WEB.png\n",
      "/images/2020/04/07/bn2.jpg\n",
      "/images/2021/09/06/cover-80-nam-02.png\n",
      "/images/2020/02/04/1-img_4820.jpg\n",
      "/images/2021/03/16/icon-01.png\n",
      "/images/2021/03/16/icon-02.png\n",
      "/images/2021/03/16/icon-03.png\n",
      "/images/2021/03/16/icon-04.png\n",
      "/images/2022/01/08/m-qr-code_0983845647_trng-i-hc-khoa-hc-t-nhin---qun-5_220108_190173.png\n",
      "/images/2022/01/08/m-qr-code_0983845647_trng-i-hc-khoa-hc-t-nhin---th-c---d-an_220108_180110.png\n",
      "/images/2022/03/07/Ảnh chụp (1)_thumbnail.jpg\n",
      "/images/2022/02/21/1.png\n",
      "/images/2022/02/21/65d2e3eb3702fb5ca213.jpg\n",
      "/images/2017/05/08/hcmus2.jpg\n",
      "/images/2017/08/14/khcn.jpg\n",
      "/images/2017/08/14/bmrat1.png\n",
      "/images/2017/08/14/logo_psc1.png\n"
     ]
    },
    {
     "data": {
      "text/plain": [
       "'\\n[1] Regular Expression to extract src attribute from img tag https://stackoverflow.com/questions/450108/regular-expression-to-extract-src-attribute-from-img-tag\\n'"
      ]
     },
     "execution_count": 3,
     "metadata": {},
     "output_type": "execute_result"
    }
   ],
   "source": [
    "# TODO:\n",
    "# Displays the source of all the images present in the root URL:\n",
    "# img_src=?\n",
    "\n",
    "findall_imgsrc = lambda r: re.compile(r'<\\s*img [^>]*src=\"([^\"]+)').findall(r.text)\n",
    "img_src = findall_imgsrc(r)\n",
    "\n",
    "# Checking results?\n",
    "for i in img_src:\n",
    "    print(i)\n",
    "\n",
    "fp = open('images.txt', 'w')\n",
    "for i in img_src:\n",
    "    fp.write(i)\n",
    "    fp.write('\\n')\n",
    "fp.close()\n",
    "\n",
    "# Reference\n",
    "\"\"\"\n",
    "[1] Regular Expression to extract src attribute from img tag https://stackoverflow.com/questions/450108/regular-expression-to-extract-src-attribute-from-img-tag\n",
    "\"\"\""
   ]
  },
  {
   "cell_type": "markdown",
   "metadata": {
    "colab_type": "text",
    "id": "53VR6MqBV4Ku"
   },
   "source": [
    "Viết chữ\n"
   ]
  },
  {
   "cell_type": "code",
   "execution_count": null,
   "metadata": {
    "colab": {},
    "colab_type": "code",
    "id": "AGr5PMPoV4Ku"
   },
   "outputs": [],
   "source": []
  }
 ],
 "metadata": {
  "colab": {
   "name": "Lab01-WebCrawler.ipynb",
   "provenance": []
  },
  "kernelspec": {
   "display_name": "Python 3",
   "language": "python",
   "name": "python3"
  },
  "language_info": {
   "codemirror_mode": {
    "name": "ipython",
    "version": 3
   },
   "file_extension": ".py",
   "mimetype": "text/x-python",
   "name": "python",
   "nbconvert_exporter": "python",
   "pygments_lexer": "ipython3",
   "version": "3.8.3"
  }
 },
 "nbformat": 4,
 "nbformat_minor": 1
}
